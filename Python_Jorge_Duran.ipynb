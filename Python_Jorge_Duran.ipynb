{
 "cells": [
  {
   "cell_type": "markdown",
   "metadata": {},
   "source": [
    "# Final Assignment Jorge Durán"
   ]
  },
  {
   "cell_type": "markdown",
   "metadata": {
    "pycharm": {
     "name": "#%%\n"
    }
   },
   "source": [
    "**Jorge Eduardo Durán Vásquez - Student ID: 229487**\n",
    "\n",
    "I will check the solutions given for similarities. If you work out the solution to individual tasks together with fellow students, you must indicate this in the solutions to the corresponding tasks. Solve the tasks before 5th of June 2022. You are only allowed to import the following modules:"
   ]
  },
  {
   "cell_type": "code",
   "execution_count": 1,
   "metadata": {},
   "outputs": [],
   "source": [
    "import pandas as pd\n",
    "import numpy as np\n",
    "import matplotlib.pyplot as plt\n",
    "from tqdm import tqdm\n",
    "\n",
    "\n",
    "import statsmodels.api as sm\n",
    "import statsmodels.formula.api as smf\n",
    "\n",
    "import pickle\n",
    "\n",
    "from selenium import webdriver\n",
    "import json"
   ]
  },
  {
   "cell_type": "markdown",
   "metadata": {},
   "source": [
    "## 1. Data preprocessing and plots"
   ]
  },
  {
   "cell_type": "markdown",
   "metadata": {
    "pycharm": {
     "name": "#%% md\n"
    }
   },
   "source": [
    "**1.1** Import 'players_21.csv' as a pandas data dataframe. Define a new column 'value' with stores the market value ('value_eur') in millions."
   ]
  },
  {
   "cell_type": "code",
   "execution_count": 2,
   "metadata": {
    "pycharm": {
     "name": "#%%\n"
    },
    "tags": []
   },
   "outputs": [
    {
     "name": "stdout",
     "output_type": "stream",
     "text": [
      "       sofifa_id   value                                         player_url  \\\n",
      "0         158023  67.500  https://sofifa.com/player/158023/lionel-messi/...   \n",
      "1          20801  46.000  https://sofifa.com/player/20801/c-ronaldo-dos-...   \n",
      "2         200389  75.000  https://sofifa.com/player/200389/jan-oblak/210002   \n",
      "3         188545  80.000  https://sofifa.com/player/188545/robert-lewand...   \n",
      "4         190871  90.000  https://sofifa.com/player/190871/neymar-da-sil...   \n",
      "...          ...     ...                                                ...   \n",
      "18939     256679   0.040  https://sofifa.com/player/256679/kevin-angulo/...   \n",
      "18940     257710   0.035  https://sofifa.com/player/257710/mengxuan-zhan...   \n",
      "18941     250989   0.035  https://sofifa.com/player/250989/zhenghao-wang...   \n",
      "18942     257697   0.040  https://sofifa.com/player/257697/zitong-chen/2...   \n",
      "18943     257936   0.030   https://sofifa.com/player/257936/yue-song/210002   \n",
      "\n",
      "              short_name                            long_name  age  \\\n",
      "0               L. Messi       Lionel Andrés Messi Cuccittini   33   \n",
      "1      Cristiano Ronaldo  Cristiano Ronaldo dos Santos Aveiro   35   \n",
      "2               J. Oblak                            Jan Oblak   27   \n",
      "3         R. Lewandowski                   Robert Lewandowski   31   \n",
      "4              Neymar Jr        Neymar da Silva Santos Júnior   28   \n",
      "...                  ...                                  ...  ...   \n",
      "18939          K. Angulo                         Kevin Angulo   24   \n",
      "18940     Zhang Mengxuan                       Mengxuan Zhang   21   \n",
      "18941      Wang Zhenghao                                  王政豪   20   \n",
      "18942        Chen Zitong                          Zitong Chen   23   \n",
      "18943           Song Yue                             Yue Song   28   \n",
      "\n",
      "              dob  height_cm  weight_kg nationality  ...   lwb   ldm   cdm  \\\n",
      "0      1987-06-24        170         72   Argentina  ...  66+3  65+3  65+3   \n",
      "1      1985-02-05        187         83    Portugal  ...  65+3  61+3  61+3   \n",
      "2      1993-01-07        188         87    Slovenia  ...  32+3  36+3  36+3   \n",
      "3      1988-08-21        184         80      Poland  ...  64+3  65+3  65+3   \n",
      "4      1992-02-05        175         68      Brazil  ...  67+3  62+3  62+3   \n",
      "...           ...        ...        ...         ...  ...   ...   ...   ...   \n",
      "18939  1996-04-13        176         73    Colombia  ...  47+2  47+2  47+2   \n",
      "18940  1999-04-26        177         70    China PR  ...  42+2  41+2  41+2   \n",
      "18941  2000-06-28        185         74    China PR  ...  42+2  42+2  42+2   \n",
      "18942  1997-02-20        186         80    China PR  ...  47+2  49+2  49+2   \n",
      "18943  1991-11-20        185         79    China PR  ...  47+0  47+0  47+0   \n",
      "\n",
      "        rdm   rwb    lb   lcb    cb   rcb    rb  \n",
      "0      65+3  66+3  62+3  52+3  52+3  52+3  62+3  \n",
      "1      61+3  65+3  61+3  54+3  54+3  54+3  61+3  \n",
      "2      36+3  32+3  32+3  33+3  33+3  33+3  32+3  \n",
      "3      65+3  64+3  61+3  60+3  60+3  60+3  61+3  \n",
      "4      62+3  67+3  62+3  49+3  49+3  49+3  62+3  \n",
      "...     ...   ...   ...   ...   ...   ...   ...  \n",
      "18939  47+2  47+2  47+2  46+2  46+2  46+2  47+2  \n",
      "18940  41+2  42+2  45+2  47+2  47+2  47+2  45+2  \n",
      "18941  42+2  42+2  44+2  47+2  47+2  47+2  44+2  \n",
      "18942  49+2  47+2  47+2  49+2  49+2  49+2  47+2  \n",
      "18943  47+0  47+0  47+0  46+1  46+1  46+1  47+0  \n",
      "\n",
      "[18944 rows x 107 columns]\n"
     ]
    }
   ],
   "source": [
    "# First, the data frame with the data that is stored in the .csv file is stored in \"df\"\n",
    "df= pd.read_csv (r'players_21.csv')\n",
    "# Given the variable \"value_eur\" we divide by 1'000.000 to obtain the millions units \n",
    "value = df['value_eur']/1000000\n",
    "# Now we insert the new column in the second possiton of the data set\n",
    "df.insert(loc=1, column='value', value=value)\n",
    "# We print the data set to check that the elements were correctly carged in memory.\n",
    "print (df)"
   ]
  },
  {
   "cell_type": "markdown",
   "metadata": {
    "pycharm": {
     "name": "#%% md\n"
    }
   },
   "source": [
    "**1.2** Show the most valuable player for each position ('team_position'). Display the position, the name ('short_name'), and the market value in millions."
   ]
  },
  {
   "cell_type": "code",
   "execution_count": 3,
   "metadata": {
    "collapsed": true,
    "jupyter": {
     "outputs_hidden": true
    },
    "pycharm": {
     "name": "#%%\n"
    },
    "tags": []
   },
   "outputs": [
    {
     "name": "stdout",
     "output_type": "stream",
     "text": [
      "['sofifa_id', 'value', 'player_url', 'short_name', 'long_name', 'age', 'dob', 'height_cm', 'weight_kg', 'nationality', 'club_name', 'league_name', 'league_rank', 'overall', 'potential', 'value_eur', 'wage_eur', 'player_positions', 'preferred_foot', 'international_reputation', 'weak_foot', 'skill_moves', 'work_rate', 'body_type', 'real_face', 'release_clause_eur', 'player_tags', 'team_position', 'team_jersey_number', 'loaned_from', 'joined', 'contract_valid_until', 'nation_position', 'nation_jersey_number', 'pace', 'shooting', 'passing', 'dribbling', 'defending', 'physic', 'gk_diving', 'gk_handling', 'gk_kicking', 'gk_reflexes', 'gk_speed', 'gk_positioning', 'player_traits', 'attacking_crossing', 'attacking_finishing', 'attacking_heading_accuracy', 'attacking_short_passing', 'attacking_volleys', 'skill_dribbling', 'skill_curve', 'skill_fk_accuracy', 'skill_long_passing', 'skill_ball_control', 'movement_acceleration', 'movement_sprint_speed', 'movement_agility', 'movement_reactions', 'movement_balance', 'power_shot_power', 'power_jumping', 'power_stamina', 'power_strength', 'power_long_shots', 'mentality_aggression', 'mentality_interceptions', 'mentality_positioning', 'mentality_vision', 'mentality_penalties', 'mentality_composure', 'defending_marking', 'defending_standing_tackle', 'defending_sliding_tackle', 'goalkeeping_diving', 'goalkeeping_handling', 'goalkeeping_kicking', 'goalkeeping_positioning', 'goalkeeping_reflexes', 'ls', 'st', 'rs', 'lw', 'lf', 'cf', 'rf', 'rw', 'lam', 'cam', 'ram', 'lm', 'lcm', 'cm', 'rcm', 'rm', 'lwb', 'ldm', 'cdm', 'rdm', 'rwb', 'lb', 'lcb', 'cb', 'rcb', 'rb']\n"
     ]
    }
   ],
   "source": [
    "# First, I look the names of the columns to take the correct \n",
    "# column names in next exercises\n",
    "print(df.columns.tolist())"
   ]
  },
  {
   "cell_type": "code",
   "execution_count": 4,
   "metadata": {
    "tags": []
   },
   "outputs": [
    {
     "name": "stdout",
     "output_type": "stream",
     "text": [
      "      team_position           short_name  value\n",
      "6                LS            K. Mbappé  105.5\n",
      "4                LW            Neymar Jr   90.0\n",
      "5               RCM         K. De Bruyne   87.0\n",
      "3                ST       R. Lewandowski   80.0\n",
      "11               RW             M. Salah   78.0\n",
      "8               LCB          V. van Dijk   75.5\n",
      "2                GK             J. Oblak   75.0\n",
      "22               RS            P. Dybala   71.0\n",
      "0               CAM             L. Messi   67.5\n",
      "20              RDM           J. Kimmich   65.0\n",
      "29               RB  T. Alexander-Arnold   60.0\n",
      "34              LCM       Bernardo Silva   60.0\n",
      "17              CDM             Casemiro   59.5\n",
      "62               RM           K. Havertz   57.0\n",
      "15               CF           K. Benzema   53.0\n",
      "65               LM          M. Rashford   53.0\n",
      "13              SUB            S. Agüero   53.0\n",
      "33               LB         A. Robertson   53.0\n",
      "48              RCB            R. Varane   46.5\n",
      "104             LDM          L. Goretzka   39.5\n",
      "51               LF             A. Gómez   34.5\n",
      "55               CB           M. Hummels   33.0\n",
      "166             RES          Juan Bernat   25.5\n",
      "136              RF            J. Iličić   25.0\n",
      "378             LAM            C. Nkunku   20.5\n",
      "300             LWB                Jonny   19.5\n",
      "509             RAM            Dani Olmo   18.5\n",
      "518             RWB         Adama Traoré   17.5\n",
      "355              CM         I. Fernández   16.5\n",
      "14664           NaN       A. Swaminathan    0.0\n"
     ]
    }
   ],
   "source": [
    "# we first sort the values in decending order to have the most valuable player for each\n",
    "# position on top then we drop the duplicates of position to obtain all the first elements.\n",
    "df2 = df.sort_values(by='value', ascending = False).drop_duplicates(subset='team_position')\n",
    "# Print the results, notice that some players have missing values in the possition column,\n",
    "# for that reason we are also printing the most valuable player that does not have position.\n",
    "print(df2[['team_position','short_name','value']])"
   ]
  },
  {
   "cell_type": "markdown",
   "metadata": {
    "pycharm": {
     "name": "#%% md\n"
    }
   },
   "source": [
    "**1.3** Show the 10 most valuable teams ('club_name')! Display the total market value and the\n",
    "size of the squad!"
   ]
  },
  {
   "cell_type": "code",
   "execution_count": 5,
   "metadata": {
    "pycharm": {
     "name": "#%%\n"
    },
    "tags": []
   },
   "outputs": [
    {
     "name": "stdout",
     "output_type": "stream",
     "text": [
      "               club_name    value  Size_squad\n",
      "374            Liverpool  840.625          33\n",
      "489          Real Madrid  760.850          32\n",
      "386      Manchester City  747.275          33\n",
      "214         FC Barcelona  722.200          33\n",
      "216    FC Bayern München  609.700          22\n",
      "451  Paris Saint-Germain  605.675          29\n",
      "131              Chelsea  602.275          33\n",
      "64       Atlético Madrid  582.500          33\n",
      "612    Tottenham Hotspur  571.525          33\n",
      "387    Manchester United  564.130          33\n"
     ]
    }
   ],
   "source": [
    "# From the data set we take the variables \"club_name\" and \"value\", then we groupby the \n",
    "# name of the clubs and apply the aggregation function \"sum\" over the value\n",
    "df_teams= df[['club_name','value']].groupby(['club_name']).sum().reset_index()\n",
    "\n",
    "# Now we have to calculate the size of the squad. To do so we count the number of \n",
    "# times that a name appear in the data set.\n",
    "df_teams['Size_squad']=df_teams['club_name'].map(df['club_name'].value_counts())\n",
    "\n",
    "# We print the 10 first results in desending order to get the ranking of the most valuable teams \n",
    "print(df_teams.sort_values(by='value', ascending = False).head(10))"
   ]
  },
  {
   "cell_type": "markdown",
   "metadata": {},
   "source": [
    "**1.4** Plot the minium, the mean and the maximum value for each overall player strength group. (Replicate ``'overall.pdf'.``)\n"
   ]
  },
  {
   "cell_type": "code",
   "execution_count": 6,
   "metadata": {},
   "outputs": [
    {
     "data": {
      "image/png": "[encoded data removed]",
      "text/plain": [
       "<Figure size 432x288 with 1 Axes>"
      ]
     },
     "metadata": {
      "needs_background": "light"
     },
     "output_type": "display_data"
    }
   ],
   "source": [
    "# We create a df helpper that store the variables \"overall\" and \"value\"   \n",
    "df_help = df[['overall','value']]\n",
    "\n",
    "# We group by all values of overall and apply the aggregation function \"mean\", \"min\" and \"max\"\n",
    "df_overall= df_help.groupby('overall').agg({'value': ['mean', 'min', 'max']}).reset_index()\n",
    "\n",
    "# First, we plot the Overall vs the mean Value of each group \n",
    "plt.plot(df_overall['overall'], # Variable in the X axis\n",
    "         df_overall[('value','mean')], # Variable in the Y axis\n",
    "         label='Mean', # Name of the plot\n",
    "         linewidth=2.0, # The line width \n",
    "         color='orange', \n",
    "         linestyle='-')\n",
    "\n",
    "# Second, we plot the Overall vs the min Value of each group \n",
    "plt.plot(df_overall['overall'],\n",
    "      df_overall[('value','min')],\n",
    "         label='Min',\n",
    "         linewidth=2.0,\n",
    "         color='blue',\n",
    "         linestyle='-')\n",
    "# third, we plot the Overall vs the max Value of each group \n",
    "plt.plot(df_overall['overall'],\n",
    "      df_overall[('value','max')],\n",
    "         label='Max',\n",
    "         linewidth=2.0,\n",
    "         color='green',\n",
    "         linestyle='-')\n",
    "\n",
    "# Main name of the plot\n",
    "plt.title('Value in millions vs. Overall player strength')\n",
    "# naming the x axis\n",
    "plt.xlabel('Overall')\n",
    "# naming the y axis\n",
    "plt.ylabel('Value in millions')\n",
    "# show a legend on the plot\n",
    "plt.legend()\n",
    "# function to save the plot as \".pdf\"\n",
    "plt.savefig('overall_jorge.pdf')  \n",
    "# function to show the plot\n",
    "plt.show()"
   ]
  },
  {
   "cell_type": "markdown",
   "metadata": {},
   "source": [
    "***1.5*** Add lines of code in the following template to replicate ``'potential.pdf'``. Explain precisely the line where dot_color is determined and why this solution is not efficient."
   ]
  },
  {
   "cell_type": "code",
   "execution_count": 7,
   "metadata": {
    "tags": []
   },
   "outputs": [
    {
     "name": "stdout",
     "output_type": "stream",
     "text": [
      "[('w', 0), ('y', 1), ('c', 5), ('g', 20), ('b', 50), ('k', 100)]\n"
     ]
    },
    {
     "data": {
      "image/png": "[encoded data removed]",
      "text/plain": [
       "<Figure size 432x288 with 1 Axes>"
      ]
     },
     "metadata": {
      "needs_background": "light"
     },
     "output_type": "display_data"
    }
   ],
   "source": [
    "#Create a matrix filled with zeros and dimension 100x100\n",
    "matrix = np.zeros((100,100))\n",
    "\n",
    "\n",
    "for ov,pot in zip(df['overall'],df['potential']):\n",
    "    # Increase the value in the matrix in \"ov\" row and the \"pot\" column by 1\n",
    "    # each time that the combination \"[ov,pot]\" appears we sum 1\n",
    "    matrix[ov,pot]= matrix[ov,pot] + 1 \n",
    "    \n",
    "\n",
    "colors=[('w',0),('y',1),('c',5),('g',20),('b',50),('k',100)]\n",
    "print(colors)\n",
    "\n",
    "# Iterate over ov grid\n",
    "for ov in range(100):\n",
    "    # Iterate over pot grid\n",
    "    for pot in range(100):\n",
    "        # Ignore all iterations where the count is zero\n",
    "        if matrix[ov,pot]==0:\n",
    "            continue\n",
    "        \n",
    "        dot_color = [color for color,value in colors if value<=matrix[ov,pot]][-1]\n",
    "        # Plot a dot with ov as x,pot as y and dot_color as color\n",
    "        plt.scatter(ov, pot, color = dot_color,s=6)\n",
    "            \n",
    "\n",
    "#Add the x and y label\n",
    "# naming the x axis\n",
    "plt.xlabel('Overall')\n",
    "# naming the y axis\n",
    "plt.ylabel('Potential')\n",
    "\n",
    "#Save the figure\n",
    "plt.savefig('potential_jorge.pdf')\n"
   ]
  },
  {
   "cell_type": "markdown",
   "metadata": {},
   "source": [
    "**Explanation**\n",
    "\n",
    "The line \"dot_color\" is a list comprehension where the condition in the if statement accepts the values that are lower or equal than the value that is stored in  matrix[ov,pot]. The iteration checks all entries in the vector \"colors\". It is done one by one in increasing order. It assigns the color that fulfills the condition. \n",
    "\n",
    "The solution is not efficient because it assigns a value many times until the whole vector of color is checked. That means that each value is checked 6 times, regardless if it has found the correct value in the first or in the last check."
   ]
  },
  {
   "cell_type": "markdown",
   "metadata": {
    "tags": []
   },
   "source": [
    "## 2. Regression"
   ]
  },
  {
   "cell_type": "markdown",
   "metadata": {},
   "source": [
    "***2.1*** Delete all players where the value is zero."
   ]
  },
  {
   "cell_type": "code",
   "execution_count": 8,
   "metadata": {
    "tags": []
   },
   "outputs": [
    {
     "name": "stdout",
     "output_type": "stream",
     "text": [
      "       sofifa_id   value                                         player_url  \\\n",
      "0         158023  67.500  https://sofifa.com/player/158023/lionel-messi/...   \n",
      "1          20801  46.000  https://sofifa.com/player/20801/c-ronaldo-dos-...   \n",
      "2         200389  75.000  https://sofifa.com/player/200389/jan-oblak/210002   \n",
      "3         188545  80.000  https://sofifa.com/player/188545/robert-lewand...   \n",
      "4         190871  90.000  https://sofifa.com/player/190871/neymar-da-sil...   \n",
      "...          ...     ...                                                ...   \n",
      "18939     256679   0.040  https://sofifa.com/player/256679/kevin-angulo/...   \n",
      "18940     257710   0.035  https://sofifa.com/player/257710/mengxuan-zhan...   \n",
      "18941     250989   0.035  https://sofifa.com/player/250989/zhenghao-wang...   \n",
      "18942     257697   0.040  https://sofifa.com/player/257697/zitong-chen/2...   \n",
      "18943     257936   0.030   https://sofifa.com/player/257936/yue-song/210002   \n",
      "\n",
      "              short_name                            long_name  age  \\\n",
      "0               L. Messi       Lionel Andrés Messi Cuccittini   33   \n",
      "1      Cristiano Ronaldo  Cristiano Ronaldo dos Santos Aveiro   35   \n",
      "2               J. Oblak                            Jan Oblak   27   \n",
      "3         R. Lewandowski                   Robert Lewandowski   31   \n",
      "4              Neymar Jr        Neymar da Silva Santos Júnior   28   \n",
      "...                  ...                                  ...  ...   \n",
      "18939          K. Angulo                         Kevin Angulo   24   \n",
      "18940     Zhang Mengxuan                       Mengxuan Zhang   21   \n",
      "18941      Wang Zhenghao                                  王政豪   20   \n",
      "18942        Chen Zitong                          Zitong Chen   23   \n",
      "18943           Song Yue                             Yue Song   28   \n",
      "\n",
      "              dob  height_cm  weight_kg nationality  ...   lwb   ldm   cdm  \\\n",
      "0      1987-06-24        170         72   Argentina  ...  66+3  65+3  65+3   \n",
      "1      1985-02-05        187         83    Portugal  ...  65+3  61+3  61+3   \n",
      "2      1993-01-07        188         87    Slovenia  ...  32+3  36+3  36+3   \n",
      "3      1988-08-21        184         80      Poland  ...  64+3  65+3  65+3   \n",
      "4      1992-02-05        175         68      Brazil  ...  67+3  62+3  62+3   \n",
      "...           ...        ...        ...         ...  ...   ...   ...   ...   \n",
      "18939  1996-04-13        176         73    Colombia  ...  47+2  47+2  47+2   \n",
      "18940  1999-04-26        177         70    China PR  ...  42+2  41+2  41+2   \n",
      "18941  2000-06-28        185         74    China PR  ...  42+2  42+2  42+2   \n",
      "18942  1997-02-20        186         80    China PR  ...  47+2  49+2  49+2   \n",
      "18943  1991-11-20        185         79    China PR  ...  47+0  47+0  47+0   \n",
      "\n",
      "        rdm   rwb    lb   lcb    cb   rcb    rb  \n",
      "0      65+3  66+3  62+3  52+3  52+3  52+3  62+3  \n",
      "1      61+3  65+3  61+3  54+3  54+3  54+3  61+3  \n",
      "2      36+3  32+3  32+3  33+3  33+3  33+3  32+3  \n",
      "3      65+3  64+3  61+3  60+3  60+3  60+3  61+3  \n",
      "4      62+3  67+3  62+3  49+3  49+3  49+3  62+3  \n",
      "...     ...   ...   ...   ...   ...   ...   ...  \n",
      "18939  47+2  47+2  47+2  46+2  46+2  46+2  47+2  \n",
      "18940  41+2  42+2  45+2  47+2  47+2  47+2  45+2  \n",
      "18941  42+2  42+2  44+2  47+2  47+2  47+2  44+2  \n",
      "18942  49+2  47+2  47+2  49+2  49+2  49+2  47+2  \n",
      "18943  47+0  47+0  47+0  46+1  46+1  46+1  47+0  \n",
      "\n",
      "[18707 rows x 107 columns]\n"
     ]
    }
   ],
   "source": [
    "# with the drop function we delete all playes that have value == 0\n",
    "df_reg = df.drop(df[df.value ==0].index)\n",
    "\n",
    "print(df_reg)"
   ]
  },
  {
   "cell_type": "markdown",
   "metadata": {},
   "source": [
    "***2.2*** Regress the logarithmic player value on the overall strength and potential of the player.  Which player is the most overvalued (highest residual value)?"
   ]
  },
  {
   "cell_type": "code",
   "execution_count": 10,
   "metadata": {
    "tags": []
   },
   "outputs": [
    {
     "name": "stdout",
     "output_type": "stream",
     "text": [
      "18942    1.198594\n",
      "18943    1.177840\n",
      "18939    1.131862\n",
      "18938    1.065130\n",
      "18941    1.065063\n",
      "           ...   \n",
      "6919    -2.289401\n",
      "7300    -2.289401\n",
      "5940    -2.306152\n",
      "5936    -2.306152\n",
      "5934    -2.306152\n",
      "Length: 18707, dtype: float64\n"
     ]
    }
   ],
   "source": [
    "# we Use the OLS function to apply the regression of the logarithmic player value\n",
    "res=smf.ols('np.log(value) ~ overall + potential',data=df_reg).fit()\n",
    "# we find the predictions of our model and store in the variable \"Predicitons\"\n",
    "prediction=res.predict(df_reg[['overall','potential']])\n",
    "# To find the most overvalued player we sustract from the real value the predicted one\n",
    "SE = ((np.log(df_reg['value']))-prediction)\n",
    "# We print the data in desending order to get the most overvalued players at top.\n",
    "print(SE.sort_values(ascending = False))\n",
    "\n",
    "#print(res.summary()) # Comment this line to have a clean view of the results"
   ]
  },
  {
   "cell_type": "code",
   "execution_count": 13,
   "metadata": {},
   "outputs": [
    {
     "name": "stdout",
     "output_type": "stream",
     "text": [
      "the most overvalued player is:  18942    Chen Zitong\n",
      "Name: short_name, dtype: object\n"
     ]
    }
   ],
   "source": [
    "# We store the maximum value of SE in \"Max_se\"\n",
    "max_se = SE.max()\n",
    "# Now that we know the index of the most overvalued player we print the name:\n",
    "print(\"the most overvalued player is: \", df_reg['short_name'].loc[[18942]])"
   ]
  },
  {
   "cell_type": "markdown",
   "metadata": {},
   "source": [
    "***2.3*** Create dummies for the player positions. Note that several positions are possible per player."
   ]
  },
  {
   "cell_type": "code",
   "execution_count": 15,
   "metadata": {},
   "outputs": [
    {
     "name": "stdout",
     "output_type": "stream",
     "text": [
      "{'CF', 'ST', 'CAM', 'RW', 'GK', 'LB', 'LWB', 'LM', 'CB', 'RB', 'RWB', 'LW', 'CDM', 'RM', 'CM'}\n",
      "       CAM  CB  CDM  CF  CM  GK  LB  LM  LW  LWB  RB  RM  RW  RWB  ST\n",
      "0        0   0    0   1   0   0   0   0   0    0   0   0   1    0   1\n",
      "1        0   0    0   0   0   0   0   0   1    0   0   0   0    0   1\n",
      "2        0   0    0   0   0   1   0   0   0    0   0   0   0    0   0\n",
      "3        0   0    0   0   0   0   0   0   0    0   0   0   0    0   1\n",
      "4        1   0    0   0   0   0   0   0   1    0   0   0   0    0   0\n",
      "...    ...  ..  ...  ..  ..  ..  ..  ..  ..  ...  ..  ..  ..  ...  ..\n",
      "18939    0   0    0   0   1   0   0   0   0    0   0   0   0    0   0\n",
      "18940    0   1    0   0   0   0   0   0   0    0   0   0   0    0   0\n",
      "18941    0   1    0   0   0   0   0   0   0    0   0   0   0    0   0\n",
      "18942    0   0    0   0   1   0   0   0   0    0   0   0   0    0   0\n",
      "18943    0   0    0   0   1   0   0   0   0    0   0   0   0    0   0\n",
      "\n",
      "[18707 rows x 15 columns]\n"
     ]
    }
   ],
   "source": [
    "positions=set()\n",
    "for pos in df_reg['player_positions']:\n",
    "    positions.update(pos.split(', '))\n",
    "print(positions)\n",
    "\n",
    "# The dummies for the player possition are greated with the following function,\n",
    "# the case in which the a player have several position is cover witht the sep \", \".\n",
    "positiondumm = pd.Series(df_reg['player_positions']).str.get_dummies(sep=', ')\n",
    "# We check how the matrix with the dummies variables looks like.\n",
    "print(positiondumm)"
   ]
  },
  {
   "cell_type": "markdown",
   "metadata": {},
   "source": [
    "***2.4*** Regress the logarithmic player value on age, the squared age, Body-Mass-Index and, the player position dummies. Hint: The BMI is ``weight / height**2``."
   ]
  },
  {
   "cell_type": "code",
   "execution_count": 16,
   "metadata": {},
   "outputs": [
    {
     "name": "stdout",
     "output_type": "stream",
     "text": [
      "0.18432267617571352\n",
      "                            OLS Regression Results                            \n",
      "==============================================================================\n",
      "Dep. Variable:          np.log(value)   R-squared:                       0.184\n",
      "Model:                            OLS   Adj. R-squared:                  0.184\n",
      "Method:                 Least Squares   F-statistic:                     234.6\n",
      "Date:                Wed, 18 May 2022   Prob (F-statistic):               0.00\n",
      "Time:                        07:25:08   Log-Likelihood:                -30802.\n",
      "No. Observations:               18707   AIC:                         6.164e+04\n",
      "Df Residuals:                   18688   BIC:                         6.179e+04\n",
      "Df Model:                          18                                         \n",
      "Covariance Type:            nonrobust                                         \n",
      "====================================================================================\n",
      "                       coef    std err          t      P>|t|      [0.025      0.975]\n",
      "------------------------------------------------------------------------------------\n",
      "Intercept          -14.4386      0.281    -51.319      0.000     -14.990     -13.887\n",
      "age                  0.9236      0.019     47.597      0.000       0.886       0.962\n",
      "np.power(age, 2)    -0.0166      0.000    -44.939      0.000      -0.017      -0.016\n",
      "BMI                  0.0695      0.007      9.869      0.000       0.056       0.083\n",
      "positiondumm[0]      0.3003      0.031      9.582      0.000       0.239       0.362\n",
      "positiondumm[1]      0.0107      0.031      0.344      0.731      -0.050       0.072\n",
      "positiondumm[2]      0.2110      0.032      6.593      0.000       0.148       0.274\n",
      "positiondumm[3]      0.5829      0.068      8.547      0.000       0.449       0.717\n",
      "positiondumm[4]      0.1049      0.031      3.336      0.001       0.043       0.166\n",
      "positiondumm[5]     -0.2673      0.040     -6.635      0.000      -0.346      -0.188\n",
      "positiondumm[6]      0.1370      0.035      3.941      0.000       0.069       0.205\n",
      "positiondumm[7]      0.1978      0.032      6.254      0.000       0.136       0.260\n",
      "positiondumm[8]      0.3879      0.045      8.712      0.000       0.301       0.475\n",
      "positiondumm[9]      0.1230      0.073      1.692      0.091      -0.020       0.266\n",
      "positiondumm[10]     0.1217      0.034      3.586      0.000       0.055       0.188\n",
      "positiondumm[11]     0.1950      0.032      6.155      0.000       0.133       0.257\n",
      "positiondumm[12]     0.3115      0.044      7.024      0.000       0.225       0.398\n",
      "positiondumm[13]     0.0761      0.073      1.042      0.297      -0.067       0.219\n",
      "positiondumm[14]     0.0918      0.032      2.891      0.004       0.030       0.154\n",
      "==============================================================================\n",
      "Omnibus:                      798.641   Durbin-Watson:                   0.103\n",
      "Prob(Omnibus):                  0.000   Jarque-Bera (JB):              903.456\n",
      "Skew:                           0.534   Prob(JB):                    6.56e-197\n",
      "Kurtosis:                       3.132   Cond. No.                     2.15e+04\n",
      "==============================================================================\n",
      "\n",
      "Notes:\n",
      "[1] Standard Errors assume that the covariance matrix of the errors is correctly specified.\n",
      "[2] The condition number is large, 2.15e+04. This might indicate that there are\n",
      "strong multicollinearity or other numerical problems.\n"
     ]
    }
   ],
   "source": [
    "# Because I will add a new variable to the data set called BMI I call agin the data frame\n",
    "# \"df_reg\" to avoid problems when this secction of code is executed many times.\n",
    "df_reg = df.drop(df[df.value ==0].index)\n",
    "# we calculate the BMI, the height must be in meters and that is the reason why we have to\n",
    "# divide by 100.\n",
    "BMI = df_reg['weight_kg']/((df_reg['height_cm']/100)**2)\n",
    "\n",
    "# Now, the new variable is inserted in the data frame\n",
    "df_reg.insert(loc=1, column='BMI', value=BMI)\n",
    "\n",
    "# Now, we fit the model with the variables that are indicated in the task.\n",
    "res_bmi =smf.ols('np.log(value) ~ age + np.power(age, 2) + BMI + positiondumm',data=df_reg).fit()\n",
    "\n",
    "# To check the results in the next exercise, I print the R squared of this model and then \n",
    "# the summary of the model\n",
    "print(res_bmi.rsquared)\n",
    "print(res_bmi.summary())\n"
   ]
  },
  {
   "cell_type": "markdown",
   "metadata": {},
   "source": [
    "***2.5*** Use the same model as in the last task. Now estimate all possible models in which you omit one explanatory variable. Which has the highest and lowest influence on the R Squared?"
   ]
  },
  {
   "cell_type": "code",
   "execution_count": 17,
   "metadata": {},
   "outputs": [
    {
     "name": "stdout",
     "output_type": "stream",
     "text": [
      "Model 1     0.085441\n",
      "Model 2     0.096177\n",
      "Model 3     0.180071\n",
      "Model 4     0.180315\n",
      "Model 12    0.181010\n",
      "Model 7     0.181134\n",
      "Model 16    0.182169\n",
      "Model 9     0.182401\n",
      "Model 6     0.182425\n",
      "Model 11    0.182615\n",
      "Model 15    0.182669\n",
      "Model 10    0.183645\n",
      "Model 14    0.183761\n",
      "Model 8     0.183837\n",
      "Model 18    0.183958\n",
      "Model 13    0.184198\n",
      "Model 17    0.184275\n",
      "Model 5     0.184318\n",
      "Model 0     0.184323\n",
      "dtype: float64\n"
     ]
    }
   ],
   "source": [
    "r2_dict={}\n",
    "\n",
    "# We create a new Data frame only with the variables that are used in this section.\n",
    "new_df= {'value_eur':df_reg['value_eur'], 'age': df_reg['age'], 'agesquare': np.power(df_reg['age'], 2), 'BMI':BMI }\n",
    "df_regrev = pd.DataFrame(new_df)\n",
    "# Here we concatenate the previous data frame with the dummies of the variable possition.\n",
    "new_df_reg = pd.concat([df_regrev, positiondumm], axis=1)\n",
    "\n",
    "# We iterate over all varables in \"new_df_reg\" and calculate the model.\n",
    "for i in range(len(new_df_reg.columns)):\n",
    "    res_bmitwo =smf.ols('np.log(value_eur) ~ new_df_reg.drop(new_df_reg.columns[[0, i]], axis=1)',data=new_df_reg).fit()\n",
    "    # Now that the model is calculated the value of the R squared is stored in the dictionary\n",
    "    r2_dict['Model '+str(i)]= res_bmitwo.rsquared\n",
    "\n",
    "# Notice that the model 0 is the same model calculated in task 2.4.\n",
    "print(pd.Series(r2_dict).sort_values())"
   ]
  },
  {
   "cell_type": "markdown",
   "metadata": {},
   "source": [
    "**Answer:** \n",
    "\n",
    "Model 0, correspond to the model with all explanatory variables. The variable that has the highest influence in R Square is Age. The variable with the lowest impact is the position dummy variable \"CB\" (cornerback)."
   ]
  },
  {
   "cell_type": "markdown",
   "metadata": {
    "pycharm": {
     "name": "#%% md\n"
    }
   },
   "source": [
    "## 3. Password\n",
    "\n",
    "Create a program that performs the following tasks: (You are only allowed to import time and pickle. Use ``password.py`` as a template.)\n",
    "\n",
    "1. When you start the program it aks you to enter a password. \n",
    "\n",
    "2. The password is stored in a pickle file. If the password is incorrect, it should be requested again. If the password is correct, you can choose between the following options:\n",
    "    \n",
    "    2.1. S: Show the information which is stored in 'secret_file.txt'!\n",
    "\n",
    "    2.2. C: Change the password.\n",
    "\n",
    "    2.3. L: Lock the program. (Go back to password request.)\n",
    "\n",
    "    2.4. X: Exit the program.\n",
    "\n",
    "3. If there is no pickle file with a password, it should ask you to set a new password and then store it into the pickle file.\n",
    "\n",
    "4. If one enters the wrong password five times, it should wait for 10 seconds until it shows the message. \n",
    "\n",
    "5. It should check if the password has a minimum length of 8 and if consists of at least one number. It should also print if the requirement is fulfilled.\n",
    "\n",
    "\n",
    "\n",
    "\n"
   ]
  },
  {
   "cell_type": "code",
   "execution_count": 22,
   "metadata": {
    "collapsed": true,
    "jupyter": {
     "outputs_hidden": true
    },
    "tags": []
   },
   "outputs": [
    {
     "name": "stdin",
     "output_type": "stream",
     "text": [
      "Enter the password. (Or enter \"E\" to exit.)\n",
      " Jorge2022\n"
     ]
    },
    {
     "ename": "KeyboardInterrupt",
     "evalue": "Interrupted by user",
     "output_type": "error",
     "traceback": [
      "\u001b[0;31m---------------------------------------------------------------------------\u001b[0m",
      "\u001b[0;31mKeyboardInterrupt\u001b[0m                         Traceback (most recent call last)",
      "\u001b[0;32m/var/folders/1c/t4shgnw15ndgs9c1ct52bfvh0000gn/T/ipykernel_769/718382105.py\u001b[0m in \u001b[0;36m<module>\u001b[0;34m\u001b[0m\n\u001b[1;32m     72\u001b[0m             \u001b[0;31m# We give the following options:\u001b[0m\u001b[0;34m\u001b[0m\u001b[0;34m\u001b[0m\u001b[0m\n\u001b[1;32m     73\u001b[0m \u001b[0;34m\u001b[0m\u001b[0m\n\u001b[0;32m---> 74\u001b[0;31m             \u001b[0moption\u001b[0m \u001b[0;34m=\u001b[0m \u001b[0minput\u001b[0m\u001b[0;34m(\u001b[0m\u001b[0;34m'\\nEnter \"S\" to show secret file, Enter \"C\" to change the password, Enter \"L\" to lock, Enter \"E\" to exit the programm.\\n'\u001b[0m\u001b[0;34m)\u001b[0m\u001b[0;34m.\u001b[0m\u001b[0mupper\u001b[0m\u001b[0;34m(\u001b[0m\u001b[0;34m)\u001b[0m\u001b[0;34m\u001b[0m\u001b[0;34m\u001b[0m\u001b[0m\n\u001b[0m\u001b[1;32m     75\u001b[0m             \u001b[0;32mif\u001b[0m \u001b[0moption\u001b[0m \u001b[0;34m==\u001b[0m \u001b[0;34m\"S\"\u001b[0m\u001b[0;34m:\u001b[0m\u001b[0;34m\u001b[0m\u001b[0;34m\u001b[0m\u001b[0m\n\u001b[1;32m     76\u001b[0m                 \u001b[0;31m# Show the contents of the secret file\u001b[0m\u001b[0;34m\u001b[0m\u001b[0;34m\u001b[0m\u001b[0m\n",
      "\u001b[0;32m~/opt/miniconda3/envs/bda/lib/python3.9/site-packages/ipykernel/kernelbase.py\u001b[0m in \u001b[0;36mraw_input\u001b[0;34m(self, prompt)\u001b[0m\n\u001b[1;32m   1004\u001b[0m                 \u001b[0;34m\"raw_input was called, but this frontend does not support input requests.\"\u001b[0m\u001b[0;34m\u001b[0m\u001b[0;34m\u001b[0m\u001b[0m\n\u001b[1;32m   1005\u001b[0m             )\n\u001b[0;32m-> 1006\u001b[0;31m         return self._input_request(\n\u001b[0m\u001b[1;32m   1007\u001b[0m             \u001b[0mstr\u001b[0m\u001b[0;34m(\u001b[0m\u001b[0mprompt\u001b[0m\u001b[0;34m)\u001b[0m\u001b[0;34m,\u001b[0m\u001b[0;34m\u001b[0m\u001b[0;34m\u001b[0m\u001b[0m\n\u001b[1;32m   1008\u001b[0m             \u001b[0mself\u001b[0m\u001b[0;34m.\u001b[0m\u001b[0m_parent_ident\u001b[0m\u001b[0;34m[\u001b[0m\u001b[0;34m\"shell\"\u001b[0m\u001b[0;34m]\u001b[0m\u001b[0;34m,\u001b[0m\u001b[0;34m\u001b[0m\u001b[0;34m\u001b[0m\u001b[0m\n",
      "\u001b[0;32m~/opt/miniconda3/envs/bda/lib/python3.9/site-packages/ipykernel/kernelbase.py\u001b[0m in \u001b[0;36m_input_request\u001b[0;34m(self, prompt, ident, parent, password)\u001b[0m\n\u001b[1;32m   1049\u001b[0m             \u001b[0;32mexcept\u001b[0m \u001b[0mKeyboardInterrupt\u001b[0m\u001b[0;34m:\u001b[0m\u001b[0;34m\u001b[0m\u001b[0;34m\u001b[0m\u001b[0m\n\u001b[1;32m   1050\u001b[0m                 \u001b[0;31m# re-raise KeyboardInterrupt, to truncate traceback\u001b[0m\u001b[0;34m\u001b[0m\u001b[0;34m\u001b[0m\u001b[0m\n\u001b[0;32m-> 1051\u001b[0;31m                 \u001b[0;32mraise\u001b[0m \u001b[0mKeyboardInterrupt\u001b[0m\u001b[0;34m(\u001b[0m\u001b[0;34m\"Interrupted by user\"\u001b[0m\u001b[0;34m)\u001b[0m \u001b[0;32mfrom\u001b[0m \u001b[0;32mNone\u001b[0m\u001b[0;34m\u001b[0m\u001b[0;34m\u001b[0m\u001b[0m\n\u001b[0m\u001b[1;32m   1052\u001b[0m             \u001b[0;32mexcept\u001b[0m \u001b[0mException\u001b[0m\u001b[0;34m:\u001b[0m\u001b[0;34m\u001b[0m\u001b[0;34m\u001b[0m\u001b[0m\n\u001b[1;32m   1053\u001b[0m                 \u001b[0mself\u001b[0m\u001b[0;34m.\u001b[0m\u001b[0mlog\u001b[0m\u001b[0;34m.\u001b[0m\u001b[0mwarning\u001b[0m\u001b[0;34m(\u001b[0m\u001b[0;34m\"Invalid Message:\"\u001b[0m\u001b[0;34m,\u001b[0m \u001b[0mexc_info\u001b[0m\u001b[0;34m=\u001b[0m\u001b[0;32mTrue\u001b[0m\u001b[0;34m)\u001b[0m\u001b[0;34m\u001b[0m\u001b[0;34m\u001b[0m\u001b[0m\n",
      "\u001b[0;31mKeyboardInterrupt\u001b[0m: Interrupted by user"
     ]
    }
   ],
   "source": [
    "import pickle\n",
    "import time\n",
    "\n",
    "# We define the function \"Change password\"\n",
    "def change_pw():\n",
    "    while True:\n",
    "        # We start the couting variables for lowercase alphabets (l),\n",
    "        # uppercase alphabets (u) and the number of digits (d).\n",
    "        l, u, d = 0, 0, 0\n",
    "        # We ask for a new password\n",
    "        new_password = input('Set your password:\\n')\n",
    "        \n",
    "        # The first chek that we make is that the password has at least 8 characters \n",
    "        if (len(new_password) >= 8):\n",
    "            for i in new_password:\n",
    "                # counting lowercase alphabets \n",
    "                if (i.islower()):\n",
    "                    l+=1            \n",
    "                # counting uppercase alphabets\n",
    "                if (i.isupper()):\n",
    "                    u+=1            \n",
    "                # counting digits\n",
    "                if (i.isdigit()):\n",
    "                    d+=1              \n",
    "        # We check that the password has more than one digit, and the \n",
    "        # corresponding length.\n",
    "        if (l>=1 and u>=1 and d>=1 and l+u+d==len(new_password)):\n",
    "            print(\"\\n\",\"Password fulfil the length and the condition in the number of digits\",\"\\n\")\n",
    "        else:\n",
    "            print(\"Invalid Password\")\n",
    "            continue\n",
    "        # we ask the user to enter the password again to finish the process\n",
    "        if new_password != input('Confirm password:\\n'):\n",
    "            print(\"\\n\",'Both Passwords must be equal.',\"\\n\")\n",
    "            continue\n",
    "        # Save password into a pickle file.\n",
    "        pickle.dump(new_password,open('pw_file.p', 'wb'))\n",
    "        print(\"\\n\",'Password successfully saved.',\"\\n\")\n",
    "        break\n",
    "    return new_password\n",
    "\n",
    "failures=0\n",
    "option = 'o' # This variable is to exit the whole program from the second \"While True\"\n",
    "\n",
    "while True:\n",
    "    # This section check the condition 3. \n",
    "    try:\n",
    "        password = pickle.load( open( \"pw_file.p\", \"rb\" ) )\n",
    "    except:\n",
    "        #if there is not a pickle file we ask to set a new password.\n",
    "        password = change_pw()\n",
    "    \n",
    "    # This Condition is only cheked when the user enter E from the second while loop \n",
    "    if option == 'E':\n",
    "        break # This is used to finisch the outer loop.\n",
    "    \n",
    "    # Now we execute condition 4 from the task.\n",
    "    if failures == 5:\n",
    "        failures = 0 # Re set the couter to zero.\n",
    "        print('You have made 5 errors. Now, you should wait 10 seconds.')\n",
    "        time.sleep(10) # Wait for 10 seconds\n",
    "    \n",
    "    # Now the program starts for the user and we start asking for the password.\n",
    "    # Also we give the possibility to exit the program.\n",
    "    enter_password = input('Enter the password. (Or enter \"E\" to exit.)\\n')\n",
    "    \n",
    "    if enter_password == \"E\":\n",
    "        break # Finish the program.\n",
    "    # In the case that the user enter the correct password    \n",
    "    if enter_password == password:\n",
    "        while True:\n",
    "            # We give the following options:\n",
    "            \n",
    "            option = input('\\nEnter \"S\" to show secret file, Enter \"C\" to change the password, Enter \"L\" to lock, Enter \"E\" to exit the programm.\\n').upper()\n",
    "            if option == \"S\":\n",
    "                # Show the contents of the secret file\n",
    "                with open('secret_file.txt') as f:\n",
    "                    contents = f.read()\n",
    "                print(\"\\n\",contents,\"\\n\",)\n",
    "                continue    \n",
    "            if option == \"C\":\n",
    "                change_pw() # Call the function to set a new password\n",
    "                continue\n",
    "            if option == \"L\":    \n",
    "                break # Lock is finich the inner loop\n",
    "            if option == \"E\":    \n",
    "                break # This finich the inner loop and also set the value of \"option\" to E  \n",
    "\n",
    "            print(\"\\n\",'No valid entry.',\"\\n\")\n",
    "    else:\n",
    "        failures+=1\n",
    "        print(\"\\n\",'Wrong Password!',\"\\n\")\n",
    "        \n",
    "# user message to close the program execution        \n",
    "print(\"\\n\",'Thanks for using our program, bye!')"
   ]
  },
  {
   "cell_type": "markdown",
   "metadata": {},
   "source": [
    "## 4. Webscraping"
   ]
  },
  {
   "cell_type": "markdown",
   "metadata": {},
   "source": [
    "Create a program that queries all people on the English-language Wikipedia for a date in the format MM-DD are born on that day and saves it in a JSON file. (Note: See ``'07-13.json'`` as an example file.)"
   ]
  },
  {
   "cell_type": "code",
   "execution_count": 23,
   "metadata": {
    "tags": []
   },
   "outputs": [],
   "source": [
    "# to execute this part in Mac, I need to remove the \".exe\" in the chrome_path\n",
    "chrome_path=r'chromedriver'\n",
    "driver = webdriver.Chrome(chrome_path)"
   ]
  },
  {
   "cell_type": "code",
   "execution_count": 24,
   "metadata": {},
   "outputs": [
    {
     "name": "stdout",
     "output_type": "stream",
     "text": [
      "We are taking the information of:  https://en.wikipedia.org/wiki/May_25\n"
     ]
    }
   ],
   "source": [
    "# First, the date that we are looking for is store in the string element \"date\"\n",
    "date='05-25'\n",
    "\n",
    "#To take each number we split the string bu \"-\"\n",
    "numbers_date = date.rsplit(\"-\")\n",
    "\n",
    "# Now, we list all months because the link in wikipedia use the name of the month directly in the URL\n",
    "# so we need to be able to reproduce this\n",
    "month_list=['January','February','March','April','May','June','July','August','September','October','November','December']\n",
    "\n",
    "# We use the link and now we add the month from the \"month_list\" according to the first number in date\n",
    "# also be add the number of the day. Notice that we need to change the format to integer number for \n",
    "# get the correct month.\n",
    "\n",
    "site_link='https://en.wikipedia.org/wiki/'+str(month_list[int(numbers_date[0])-1])+'_'+str(numbers_date[1])\n",
    "\n",
    "# User message to confirm the web site\n",
    "print(\"We are taking the information of: \",site_link)\n",
    "\n",
    "# Retrive the web page\n",
    "driver.get(site_link)\n"
   ]
  },
  {
   "cell_type": "code",
   "execution_count": 25,
   "metadata": {},
   "outputs": [
    {
     "name": "stderr",
     "output_type": "stream",
     "text": [
      "/var/folders/1c/t4shgnw15ndgs9c1ct52bfvh0000gn/T/ipykernel_769/2827160895.py:6: DeprecationWarning: find_elements_by_tag_name is deprecated. Please use find_elements(by=By.TAG_NAME, value=name) instead\n",
      "  for element in driver.find_elements_by_tag_name('li'):\n"
     ]
    },
    {
     "name": "stdout",
     "output_type": "stream",
     "text": [
      "invalid literal for int() with base 10: '^ Gray, Taylor (June 11, 2001). \"The Other Guy on Top of the World\". Time'\n"
     ]
    }
   ],
   "source": [
    "caths = ['Events','Births','Deaths']\n",
    "data=[]\n",
    "cath_index=0\n",
    "last_year=-10e10\n",
    "# Here we find the listed \"li\" elements in the retived web page\n",
    "for element in driver.find_elements_by_tag_name('li'):\n",
    "    try:\n",
    "        text=element.text        \n",
    "        if ' – '  in text:\n",
    "            # The elements that are listed in \"li\" normaly contain \" - \" to separate the year \n",
    "            # from the rest of the text we use this to split the data and take the year.\n",
    "            year= text.split(\" – \")[0]\n",
    "            year= -int(year[:year.find(' ')]) if 'BC' in year else int(year)\n",
    "            # Now, after the year the next splitting element is \", \" because the name is \n",
    "            # separated from the description with \", \".\n",
    "            person= text.split(\" – \")[1].split(\", \")[0]\n",
    "            # Given that the splitting by \", \" can also split the description we have to \n",
    "            # rejoin the elemets after extracting the name of the person.\n",
    "            discription = ', '.join(text.split(\" – \")[1].split(\", \")[1:])\n",
    "            \n",
    "                        \n",
    "            if year<last_year-1000:\n",
    "                cath_index+=1\n",
    "            last_year=year\n",
    "\n",
    "\n",
    "            if caths[cath_index]=='Births':\n",
    "                data.append([[year, person, discription]])\n",
    "    except Exception as e:\n",
    "        print(e)\n",
    "        pass\n",
    "    \n",
    "# We set the correct name for the file        \n",
    "json.dump(data,open(str(date)+'.json','w'))"
   ]
  }
 ],
 "metadata": {
  "kernelspec": {
   "display_name": "Python 3 (ipykernel)",
   "language": "python",
   "name": "python3"
  },
  "language_info": {
   "codemirror_mode": {
    "name": "ipython",
    "version": 3
   },
   "file_extension": ".py",
   "mimetype": "text/x-python",
   "name": "python",
   "nbconvert_exporter": "python",
   "pygments_lexer": "ipython3",
   "version": "3.9.7"
  }
 },
 "nbformat": 4,
 "nbformat_minor": 4
}
